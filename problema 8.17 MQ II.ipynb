{
 "cells": [
  {
   "cell_type": "code",
   "execution_count": 27,
   "id": "32f017bb",
   "metadata": {},
   "outputs": [
    {
     "name": "stdout",
     "output_type": "stream",
     "text": [
      "0.34824490439496003\n",
      "4.318236814497504e-05\n",
      "510996.5985697596\n"
     ]
    }
   ],
   "source": [
    "import numpy as np\n",
    "\n",
    "\n",
    "#experimental E(n,l,j): E(2,1,3/2)-(0.5*(E(2,0,1/2)+E(2,1,1/2)))\n",
    "Eexp=82259.285001249-((82258.919113406+82258.9543992832)/2)\n",
    "Eexp_ev=Eexp*1240*(10**(-7))\n",
    "\n",
    "#teoria\n",
    "alpha=1/137.035999679\n",
    "z=1\n",
    "mc2=511*(10**3) #eV\n",
    "\n",
    "n=2\n",
    "Eteo=mc2*(1-(((z*alpha)**2)/(2*n**2)))\n",
    "\n",
    "print(Eexp)\n",
    "print(Eexp_ev)\n",
    "print(Eteo)"
   ]
  },
  {
   "cell_type": "code",
   "execution_count": null,
   "id": "12390827",
   "metadata": {},
   "outputs": [],
   "source": []
  }
 ],
 "metadata": {
  "kernelspec": {
   "display_name": "Python 3 (ipykernel)",
   "language": "python",
   "name": "python3"
  },
  "language_info": {
   "codemirror_mode": {
    "name": "ipython",
    "version": 3
   },
   "file_extension": ".py",
   "mimetype": "text/x-python",
   "name": "python",
   "nbconvert_exporter": "python",
   "pygments_lexer": "ipython3",
   "version": "3.9.13"
  }
 },
 "nbformat": 4,
 "nbformat_minor": 5
}

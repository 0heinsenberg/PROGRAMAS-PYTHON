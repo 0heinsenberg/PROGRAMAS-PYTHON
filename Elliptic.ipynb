{
 "cells": [
  {
   "cell_type": "code",
   "execution_count": null,
   "id": "809e41c0",
   "metadata": {},
   "outputs": [],
   "source": [
    "from pyxll import xl_func\n",
    "import numpy as np\n",
    "\n",
    "@xl_func\n",
    "def Elliptic(k):\n",
    "    x=0\n",
    "    for n in range(0,101,1):\n",
    "        kn=0\n",
    "        kn=(((np.math.factorial((2*n)))/((2**(2*n))*((np.math.factorial(n))**2)))**2)*((k)**(2*n))\n",
    "        x=x+kn\n",
    "    return (np.pi/2*x)"
   ]
  },
  {
   "cell_type": "code",
   "execution_count": 10,
   "id": "60061b19",
   "metadata": {},
   "outputs": [
    {
     "name": "stdout",
     "output_type": "stream",
     "text": [
      "1.0722307136166834e+58\n"
     ]
    }
   ],
   "source": [
    "import numpy as np\n",
    "k=2\n",
    "x=0\n",
    "\n",
    "for n in range(0,101,1):\n",
    "    kn=0\n",
    "    kn=(((np.math.factorial((2*n)))/((2**(2*n))*((np.math.factorial(n))**2)))**2)*((k)**(2*n))\n",
    "    x=x+kn\n",
    "print((np.pi/2)*x)"
   ]
  },
  {
   "cell_type": "code",
   "execution_count": null,
   "id": "ead47a3a",
   "metadata": {},
   "outputs": [],
   "source": []
  }
 ],
 "metadata": {
  "kernelspec": {
   "display_name": "Python 3 (ipykernel)",
   "language": "python",
   "name": "python3"
  },
  "language_info": {
   "codemirror_mode": {
    "name": "ipython",
    "version": 3
   },
   "file_extension": ".py",
   "mimetype": "text/x-python",
   "name": "python",
   "nbconvert_exporter": "python",
   "pygments_lexer": "ipython3",
   "version": "3.9.13"
  }
 },
 "nbformat": 4,
 "nbformat_minor": 5
}

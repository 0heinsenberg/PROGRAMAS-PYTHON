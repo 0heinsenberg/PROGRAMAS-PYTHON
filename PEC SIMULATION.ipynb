{
 "cells": [
  {
   "cell_type": "code",
   "execution_count": null,
   "id": "8fe3e3d2",
   "metadata": {},
   "outputs": [],
   "source": [
    "import matplotlib.pyplot as plt\n",
    "\n",
    "def PEC(nome_arquivo):\n",
    "    # Inicializa listas para armazenar os dados\n",
    "    x = []\n",
    "    y = []\n",
    "\n",
    "    # Lê os dados do arquivo\n",
    "    with open(nome_arquivo, 'r') as arquivo:\n",
    "        linhas = arquivo.readlines()\n",
    "\n",
    "        for linha in linhas:\n",
    "            # Divide a linha em valores x e y (assumindo que são separados por espaço)\n",
    "            valores = linha.split()\n",
    "            x.append(float(valores[0]))\n",
    "            y.append(float(valores[1]))\n",
    "\n",
    "    # Plota o gráfico\n",
    "    plt.plot(x, y, label='Dados do arquivo')\n",
    "    plt.xlabel('Eixo X')\n",
    "    plt.ylabel('Eixo Y')\n",
    "    plt.title('Gráfico X-Y a partir de arquivo .txt')\n",
    "    plt.legend()\n",
    "    plt.show()"
   ]
  }
 ],
 "metadata": {
  "kernelspec": {
   "display_name": "Python 3 (ipykernel)",
   "language": "python",
   "name": "python3"
  },
  "language_info": {
   "codemirror_mode": {
    "name": "ipython",
    "version": 3
   },
   "file_extension": ".py",
   "mimetype": "text/x-python",
   "name": "python",
   "nbconvert_exporter": "python",
   "pygments_lexer": "ipython3",
   "version": "3.11.5"
  }
 },
 "nbformat": 4,
 "nbformat_minor": 5
}
